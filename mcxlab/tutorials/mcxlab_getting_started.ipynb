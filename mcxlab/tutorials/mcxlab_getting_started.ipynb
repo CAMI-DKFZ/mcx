{
  "nbformat": 4,
  "nbformat_minor": 0,
  "metadata": {
    "colab": {
      "provenance": [],
      "toc_visible": true,
      "gpuType": "T4"
    },
    "kernelspec": {
      "name": "python3",
      "display_name": "Python 3"
    },
    "language_info": {
      "name": "python"
    },
    "accelerator": "GPU",
    "gpuClass": "standard"
  },
  "cells": [
    {
      "cell_type": "markdown",
      "source": [
        "![MCX Banner](https://mcx.space/img/mcx18_banner.png)\n",
        "\n",
        "# » Getting Started with MCXLAB\n",
        "\n",
        "- **Author**: Qianqian Fang (q.fang at neu.edu) http://fanglab.org\n",
        "- **MCX Website**: https://mcx.space\n",
        "- **License**: GNU Public License V3 or later\n",
        "- **Github**: https://github.com/fangq/mcx\n",
        "\n",
        "Monte Carlo eXtreme (MCX) is a <font color='green'>GPU-accelerated, physically-accurate, and open-source</font> photon transport simulaion platform funded by the US National Institute of Health under grant [R01-GM114365](https://grantome.com/grant/NIH/R01-GM114365-06). By taking advantage of the massively parallel threads and extremely low memory latency in a modern graphics processing unit (GPU), MCX is capable of performing Monte Carlo (MC) photon simulations at a blazing speed, typically hundreds to a thousand times faster than a fully optimized CPU-based MC implementation.\n",
        "\n",
        "MCXLAB is the native MATLAB/GNU Octave bindings (interface) for running MCX GPU-accelerated photon simulations inside MATLAB or [GNU Octave](https://octave.org) - an open-source MATLAB clone.\n",
        "\n",
        "In this tutorial, we use Octave to demonstrate the basic usage of MCXLAB, but the exact commands can also be executed inside MATLAB."
      ],
      "metadata": {
        "id": "ptMYeU1cGzsE"
      }
    },
    {
      "cell_type": "markdown",
      "source": [
        "## Step 0: setting up Octave environment (only needed for Google Colab)\n",
        "\n",
        "> Only need to run this once at the beginning - this step may take 4-5 min to complete\n",
        "\n",
        "To run interactive Octave sessions inside a Google Colab Jupyter Notebook environment, we need to install the following dependencies\n",
        "- GNU Octave via `sudo apt-get install octave`\n",
        "- Oct2py Python module via `pip install oct2py`, and\n",
        "- enable Oct2py in Google Colab via \"magic command\" `%load_ext oct2py.ipython`\n",
        "\n",
        "If you run this on Google Colab, please go to menu **Edit\\Notebook Settings\\Hardware accelerator**, and verify if it has already selected \"GPU\".\n",
        "\n",
        "**Please note**: MCX/MCXLAB is GPU-accelerated. This notebook by default requests an NVIDIA GPU. Howevever, when you click on the run-button for the below section, your browser may fail to allocate a GPU runtime and ask you if you want to continue with a non-GPU runtime. If you choose to proceed without GPU support, you will have to run the section immediately following the next section to install OpenCL-based MCXLAB (called mcxlabcl) and utilize the CPU to run the rest of the tutorials. The OpenCL version of MCXLAB will work for all examples, but will be substentially slower to run (this tutorial also reduces the photon numbers accordingly to lower the runtime). "
      ],
      "metadata": {
        "id": "2S9sY9AlHwdm"
      }
    },
    {
      "cell_type": "code",
      "execution_count": null,
      "metadata": {
        "id": "8QsyOOBgAxfA"
      },
      "outputs": [],
      "source": [
        "# Although you don't have to understand every command in this section, you do\n",
        "# have to run this section once to set up the environment - it can take 4-5 mins\n",
        "# to complete - just hit the run button, wait, and move on to the next section\n",
        "\n",
        "######  Plan A - request Google Colab for a GPU and run CUDA based MCXLAB ######\n",
        "\n",
        "# install octave and oct2py\n",
        "!apt-get install octave      # install octave to Linux host\n",
        "!pip install oct2py          # install oct2py Python module\n",
        "\n",
        "# add octave support to colab notebook\n",
        "%load_ext oct2py.ipython\n",
        "\n",
        "# download and unzip mcxlab\n",
        "!rm -rf mcxlab*\n",
        "!wget http://mcx.space/nightly/release/git20211204/mcxlab-allinone-x86_64-git20211204.zip  # download mcxlab\n",
        "!unzip mcxlab-allinone-x86_64-git20211204.zip && rm -rf mcxlab-allinone-x86_64-git20211204.zip # unzip mcxlab\n",
        "\n",
        "# download jsonlab and zmat toolboxes for sharing data between MATLAB and Python\n",
        "!git clone https://github.com/fangq/jsonlab.git  # download jsonlab\n",
        "!git clone https://github.com/NeuroJSON/zmat.git # download zmat"
      ]
    },
    {
      "cell_type": "markdown",
      "source": [
        "If Google Colab failed to allocate you a GPU enabled runtime (it will popup a dialog), you can **still run this tutorial** by executing the below section - which downloads the OpenCL version of MCXLAB - mcxlabcl - and run all simulations on the CPU (much slower)"
      ],
      "metadata": {
        "id": "q3gYe7QKjron"
      }
    },
    {
      "cell_type": "code",
      "source": [
        "%%bash\n",
        "######  Plan B - if one fails to get a GPU, install OpenCL based MCXLAB ########\n",
        "if [[ ! -f `which nvidia-smi` ]]; then   # if no GPU available, install mcxlabcl (OpenCL version of mcxlab)\n",
        "    apt-get install libpocl2 pocl-opencl-icd                                    # install OpenCL Linux runtime\n",
        "    rm -rf mcxlabcl*\n",
        "    wget http://mcx.space/nightly/github/mcxlabcl-linux-x64-github-latest.zip   # download mcxlabcl\n",
        "    unzip mcxlabcl-linux-x64-github-latest.zip                                  # unzip mcxlabcl\n",
        "fi"
      ],
      "metadata": {
        "id": "MX0Gj1RajjLC"
      },
      "execution_count": null,
      "outputs": []
    },
    {
      "cell_type": "markdown",
      "source": [
        "## Step 1: Add mcxlab path to Octave\n",
        "\n",
        "---\n",
        "\n",
        "> Only need to run this once at the beginning\n"
      ],
      "metadata": {
        "id": "3FuiSDH_w6Dh"
      }
    },
    {
      "cell_type": "code",
      "source": [
        "%%octave\n",
        "addpath([pwd filesep 'mcxlab']);                 % add path to mcx\n",
        "addpath([pwd filesep 'mcxlab' filesep 'utils']); % add path to mcx helper functions\n",
        "addpath([pwd filesep 'jsonlab']);                % optional: add path to jsonlab for data export\n",
        "addpath([pwd filesep 'zmat']);                   % optional: add path to zmat for data compression\n",
        "\n",
        "if(system('which nvidia-smi'))                   % if this runtime does not have NVIDIA GPU support\n",
        "    addpath([pwd filesep 'mcxlabcl']);           % add path to mcxlabcl\n",
        "    USE_MCXCL=1;                                 % set USE_MCXCL flag in the base workspace\n",
        "end"
      ],
      "metadata": {
        "id": "IWg8T2-5SwT4"
      },
      "execution_count": 45,
      "outputs": []
    },
    {
      "cell_type": "markdown",
      "source": [
        "## Step 2: List your available GPU or CPU for MCXLAB\n",
        "\n",
        "---"
      ],
      "metadata": {
        "id": "oPiJ3kcF4MK2"
      }
    },
    {
      "cell_type": "code",
      "source": [
        "%%octave\n",
        "which mcx\n",
        "mcxlab('gpuinfo')                        % use this command to list supported CPU or GPU"
      ],
      "metadata": {
        "id": "LnrnJOcJsQzW",
        "outputId": "5edbe636-77e9-4937-877b-7c747c12e961",
        "colab": {
          "base_uri": "https://localhost:8080/",
          "height": 546
        }
      },
      "execution_count": 46,
      "outputs": [
        {
          "output_type": "display_data",
          "data": {
            "text/plain": [
              "'mcx' is a function from the file /content/mcxlab/octave/gnu-linux-x86_64/mcx.mex"
            ]
          },
          "metadata": {}
        },
        {
          "output_type": "display_data",
          "data": {
            "text/plain": [
              "Platform [0] Name Portable Computing Language"
            ]
          },
          "metadata": {}
        },
        {
          "output_type": "display_data",
          "data": {
            "text/plain": [
              "============ CPU device ID 0 [1 of 1]: pthread-Intel(R) Xeon(R) CPU @ 2.20GHz  ============"
            ]
          },
          "metadata": {}
        },
        {
          "output_type": "display_data",
          "data": {
            "text/plain": [
              " Device 1 of 1:\t\tpthread-Intel(R) Xeon(R) CPU @ 2.20GHz"
            ]
          },
          "metadata": {}
        },
        {
          "output_type": "display_data",
          "data": {
            "text/plain": [
              " Compute units   :\t2 core(s)"
            ]
          },
          "metadata": {}
        },
        {
          "output_type": "display_data",
          "data": {
            "text/plain": [
              " Global memory   :\t11468832768 B"
            ]
          },
          "metadata": {}
        },
        {
          "output_type": "display_data",
          "data": {
            "text/plain": [
              " Local memory    :\t16384 B"
            ]
          },
          "metadata": {}
        },
        {
          "output_type": "display_data",
          "data": {
            "text/plain": [
              " Constant memory :\t16384 B"
            ]
          },
          "metadata": {}
        },
        {
          "output_type": "display_data",
          "data": {
            "text/plain": [
              " Clock speed     :\t2199 MHz"
            ]
          },
          "metadata": {}
        },
        {
          "output_type": "display_data",
          "data": {
            "text/plain": [
              " Vendor name    :\tIntel"
            ]
          },
          "metadata": {}
        },
        {
          "output_type": "display_data",
          "data": {
            "text/plain": [
              " Auto-thread    :\t128"
            ]
          },
          "metadata": {}
        },
        {
          "output_type": "display_data",
          "data": {
            "text/plain": [
              " Auto-block     :\t64"
            ]
          },
          "metadata": {}
        },
        {
          "output_type": "display_data",
          "data": {
            "text/plain": [
              "ans ="
            ]
          },
          "metadata": {}
        },
        {
          "output_type": "display_data",
          "data": {
            "text/plain": []
          },
          "metadata": {}
        },
        {
          "output_type": "display_data",
          "data": {
            "text/plain": [
              "  scalar structure containing the fields:"
            ]
          },
          "metadata": {}
        },
        {
          "output_type": "display_data",
          "data": {
            "text/plain": []
          },
          "metadata": {}
        },
        {
          "output_type": "display_data",
          "data": {
            "text/plain": [
              "    name = pthread-Intel(R) Xeon(R) CPU @ 2.20GHz"
            ]
          },
          "metadata": {}
        },
        {
          "output_type": "display_data",
          "data": {
            "text/plain": [
              "    id =  1"
            ]
          },
          "metadata": {}
        },
        {
          "output_type": "display_data",
          "data": {
            "text/plain": [
              "    devcount =  1"
            ]
          },
          "metadata": {}
        },
        {
          "output_type": "display_data",
          "data": {
            "text/plain": [
              "    major = 0"
            ]
          },
          "metadata": {}
        },
        {
          "output_type": "display_data",
          "data": {
            "text/plain": [
              "    minor = 0"
            ]
          },
          "metadata": {}
        },
        {
          "output_type": "display_data",
          "data": {
            "text/plain": [
              "    globalmem =  11468832768"
            ]
          },
          "metadata": {}
        },
        {
          "output_type": "display_data",
          "data": {
            "text/plain": [
              "    constmem =  16384"
            ]
          },
          "metadata": {}
        },
        {
          "output_type": "display_data",
          "data": {
            "text/plain": [
              "    sharedmem =  16384"
            ]
          },
          "metadata": {}
        },
        {
          "output_type": "display_data",
          "data": {
            "text/plain": [
              "    regcount = 0"
            ]
          },
          "metadata": {}
        },
        {
          "output_type": "display_data",
          "data": {
            "text/plain": [
              "    clock =  2199"
            ]
          },
          "metadata": {}
        },
        {
          "output_type": "display_data",
          "data": {
            "text/plain": [
              "    sm =  2"
            ]
          },
          "metadata": {}
        },
        {
          "output_type": "display_data",
          "data": {
            "text/plain": [
              "    core =  2"
            ]
          },
          "metadata": {}
        },
        {
          "output_type": "display_data",
          "data": {
            "text/plain": [
              "    autoblock =  64"
            ]
          },
          "metadata": {}
        },
        {
          "output_type": "display_data",
          "data": {
            "text/plain": [
              "    autothread =  128"
            ]
          },
          "metadata": {}
        },
        {
          "output_type": "display_data",
          "data": {
            "text/plain": [
              "    maxgate = 0"
            ]
          },
          "metadata": {}
        },
        {
          "output_type": "display_data",
          "data": {
            "text/plain": []
          },
          "metadata": {}
        }
      ]
    },
    {
      "cell_type": "markdown",
      "source": [
        "## Step 3: Define simulation (using a `cfg` struct)\n",
        "\n",
        "---\n",
        "\n"
      ],
      "metadata": {
        "id": "SPu7A3Mm4gBh"
      }
    },
    {
      "cell_type": "code",
      "source": [
        "%%octave\n",
        "clear cfg\n",
        "\n",
        "% the below fields are minimumally required to define an MCX simulation\n",
        "cfg.nphoton=1e7;                   % define how many photon packets to simulate\n",
        "cfg.vol=uint8(ones(60,60,60));     % define a label-based volume - each voxel has a integer defining the medium type\n",
        "cfg.vol(20:40, 30:40, 20:30)=2;    % adding an inclusion by setting to a different label\n",
        "cfg.srcpos=[30 30 1];              % source position in voxel-units\n",
        "cfg.srcdir=[0 0 1];                % source direction (default source type is a pencil beam)\n",
        "cfg.prop=[0 0 1 1;                 % cfg.prop defines the optical properties, one medium per row; first row is for medium label 0 (background)\n",
        "          0.005 1 0 1.37;          % cfg.prop has 4 columns, in the order [mua(1/mm), mus(1/mm), g(anisotropy), n(ref index)]; 2nd row for medium type 1\n",
        "          0.1, 10, 0.9, 1];        % third row is for medium type 2, and so on\n",
        "cfg.tstart=0;                      % define the start time of the simulation (in s)\n",
        "cfg.tend=5e-9;                     % define the maximum duration of the photon packet (in s)\n",
        "cfg.tstep=5e-9;                    % define the time gate (step size) of the output, if tstep=tend as a large time window,this produces a CW solution\n",
        "cfg.gpuid=1;                       % use the first GPU (default), can use strings of '01' masks to use multiple GPU, such as '0110'\n",
        "\n",
        "% reduce photon number on runtimes without a GPU (CPU only)\n",
        "if(exist('USE_MCXCL', 'var') && USE_MCXCL==1)  % if no GPU is found, run less photon on the CPU\n",
        "    cfg.nphoton=1e5;               % define how many photon packets to simulate\n",
        "end"
      ],
      "metadata": {
        "id": "K-nfG2mOTeXl"
      },
      "execution_count": 69,
      "outputs": []
    },
    {
      "cell_type": "markdown",
      "source": [
        "##Step 4: Run mcxlab simulation\n",
        "\n",
        "---\n",
        "Running this section for the first time can be slightly slow as CUDA needs to initialize the GPU device. Running again should take less than a second."
      ],
      "metadata": {
        "id": "dAT-8UBA4t62"
      }
    },
    {
      "cell_type": "code",
      "source": [
        "%%octave\n",
        "% calculate the flux distribution with the given config\n",
        "flux=mcxlab(cfg);"
      ],
      "metadata": {
        "id": "4hZ1NoSITqlT"
      },
      "execution_count": null,
      "outputs": []
    },
    {
      "cell_type": "markdown",
      "source": [
        "## Step 5: Visualize results\n",
        "\n",
        "---"
      ],
      "metadata": {
        "id": "wTLCCLf3bUKt"
      }
    },
    {
      "cell_type": "code",
      "source": [
        "%%octave\n",
        "contourf(log10(squeeze(flux.data(30,:,:,1))), 50);\n",
        "axis equal\n",
        "colorbar\n",
        "colormap('jet')\n"
      ],
      "metadata": {
        "colab": {
          "base_uri": "https://localhost:8080/",
          "height": 437
        },
        "id": "fnSBwmUfTv1e",
        "outputId": "b03645b1-68b3-4ced-83dd-7cb4cb8484f8"
      },
      "execution_count": 35,
      "outputs": [
        {
          "output_type": "display_data",
          "data": {
            "image/png": "[encoded data removed]",
            "text/plain": [
              "<IPython.core.display.Image object>"
            ]
          },
          "metadata": {}
        }
      ]
    },
    {
      "cell_type": "markdown",
      "source": [
        "# » Sharing MCXLAB data between software"
      ],
      "metadata": {
        "id": "r85o-0ZJHRnq"
      }
    },
    {
      "cell_type": "markdown",
      "source": [
        "## Export data to human-readable JSON/NeuroJSON formats for easy sharing\n",
        "\n",
        "---\n",
        "The US NIH-funded NeuroJSON Project (https://neurojson.org), also developed and led by MCX's author Dr. Fang, is aimed at breaking the barriers for sharing and reusing scientific data between diverse software and programming environments (such as MATLAB, Python, web etc). The NeuroJSON project envisons that the key for making valuable scientific data long-lasting and easily reusable is **human-readability**, thus has adopted JSON and binary JSON as the primary universal format to store data files. JSON is not only directly human-readable, but also readily supported across almost every existing programming language and by many software out-of-box.\n",
        "\n",
        "![NeuroJSON logo](https://neurojson.org/wiki/upload/neurojson_banner_long.png)"
      ],
      "metadata": {
        "id": "hx9jSjo3CK9u"
      }
    },
    {
      "cell_type": "markdown",
      "source": [
        "To read/write NeuroJSON/JSON encoded data in MATLAB, one just need to download a lightweight (155kB zipped) toolbox -- JSONLab (https://github.com/fangq/jsonlab). This toolbox not only reads and writes JSON/binary JSON data files, but also encodes/decodes complex scientific data structures supported via the [JData specification](https://neurojson.org/jdata/).\n",
        "\n",
        "![JSONLab logo](https://iso2mesh.sourceforge.net/upload/jsonlab-banner.png)\n",
        "\n",
        "One can also use the built-in `jsonencode/jsondecode` functions provided in MATLAB (R2016+)/Octave (7+) to read all JSON based data files. If there are JData encoded data, one can then call `jdataencode/jdatadecode` functions in JSONLab to extract such data."
      ],
      "metadata": {
        "id": "TwW4OnXqT210"
      }
    },
    {
      "cell_type": "code",
      "source": [
        "%%octave\n",
        "% save to text-based JSON file and list file size\n",
        "tic;savejd('', flux, 'filename', 'mcx_flux.json', 'compression', 'zlib');toc\n",
        "system('ls -l mcx_flux.json');\n",
        "\n",
        "% save to binary JSON file (*.jdb) and list file size\n",
        "tic;savejd('', flux, 'filename', 'mcx_flux.jdb', 'compression', 'lzma');toc\n",
        "system('ls -l mcx_flux.jdb');\n",
        "\n",
        "% save to regular .mat file and list file size\n",
        "tic;save('mcx_flux.mat', 'flux');toc\n",
        "system('ls -l mcx_flux.mat');\n",
        "\n",
        "% export MCXLAB cfg structure to a JSON file for later use\n",
        "savejd('', cfg, 'filename', 'mcx_cfg.jdb', 'compression', 'zlib');\n",
        "\n",
        "% export MCXLAB cfg structure to a JSON file as the standalone mcx binary input file\n",
        "mcx2json(cfg, 'mcx_input');"
      ],
      "metadata": {
        "id": "9kE6CNnMcJDw",
        "colab": {
          "base_uri": "https://localhost:8080/",
          "height": 126
        },
        "outputId": "c9cff864-5b93-44d0-f60c-65cdc8ed1b5a"
      },
      "execution_count": 36,
      "outputs": [
        {
          "output_type": "display_data",
          "data": {
            "text/plain": [
              "Elapsed time is 0.146455 seconds."
            ]
          },
          "metadata": {}
        },
        {
          "output_type": "display_data",
          "data": {
            "text/plain": [
              "-rw-r--r-- 1 root root 1059301 Apr 29 20:02 mcx_flux.json"
            ]
          },
          "metadata": {}
        },
        {
          "output_type": "display_data",
          "data": {
            "text/plain": [
              "Elapsed time is 0.401497 seconds."
            ]
          },
          "metadata": {}
        },
        {
          "output_type": "display_data",
          "data": {
            "text/plain": [
              "-rw-r--r-- 1 root root 752762 Apr 29 20:02 mcx_flux.jdb"
            ]
          },
          "metadata": {}
        },
        {
          "output_type": "display_data",
          "data": {
            "text/plain": [
              "Elapsed time is 0.283795 seconds."
            ]
          },
          "metadata": {}
        },
        {
          "output_type": "display_data",
          "data": {
            "text/plain": [
              "-rw-r--r-- 1 root root 3698206 Apr 29 20:02 mcx_flux.mat"
            ]
          },
          "metadata": {}
        }
      ]
    },
    {
      "cell_type": "markdown",
      "source": [
        "## Loading MATLAB data in Python\n",
        "\n",
        "---\n",
        "\n"
      ],
      "metadata": {
        "id": "4Gtrs5FWWbO8"
      }
    },
    {
      "cell_type": "markdown",
      "source": [
        "To read/write JSON/NeuroJSON encoded universal data files in Python, one just need to install and import a tiny module called `jdata` (https://pypi.org/project/jdata/); another lightweight (~64 kB) module `bjdata` (https://pypi.org/project/bjdata/) allows one to read/write binary JSON files that supports many complex data structures."
      ],
      "metadata": {
        "id": "z1xhSCuoFA3r"
      }
    },
    {
      "cell_type": "code",
      "source": [
        "!pip install jdata bjdata      # jdata module is only 14 kB, bjdata module is only 64 kB\n",
        "!pip install --upgrade numpy   # to avoid numpy version mismatch error in the next section\n",
        "import jdata as jd"
      ],
      "metadata": {
        "id": "CpZcE964CTzQ"
      },
      "execution_count": null,
      "outputs": []
    },
    {
      "cell_type": "markdown",
      "source": [
        "JSON/binary JSON encoded data files can be passed on from MATLAB to Python (and presumabily many other environments) by "
      ],
      "metadata": {
        "id": "BeJQxj4jIEg_"
      }
    },
    {
      "cell_type": "code",
      "source": [
        "%%time\n",
        "# now one can load NeuroJSON/JSON encoded complex data to other programs, such as Python\n",
        "flux=jd.load('mcx_flux.json')\n",
        "print([flux.keys(), flux['data'].dtype, flux['data'].shape])\n",
        "\n",
        "flux=jd.load('mcx_flux.jdb')\n",
        "print([flux.keys(), flux['data'].dtype, flux['data'].shape])\n",
        "print(flux['stat'])"
      ],
      "metadata": {
        "id": "6snCnUoMCZJB",
        "outputId": "01564f5a-1a04-453b-d0db-5093ecf6a805",
        "colab": {
          "base_uri": "https://localhost:8080/"
        }
      },
      "execution_count": null,
      "outputs": [
        {
          "output_type": "stream",
          "name": "stdout",
          "text": [
            "[dict_keys(['data', 'stat', 'dref', 'prop']), dtype('float32'), (60, 60, 60)]\n",
            "[dict_keys(['data', 'stat', 'dref', 'prop']), dtype('float32'), (60, 60, 60)]\n",
            "{'runtime': 608, 'nphoton': 10000000, 'energytot': 10000000, 'energyabs': 2728910.742012024, 'normalizer': 20, 'unitinmm': 1, 'workload': 2560}\n",
            "CPU times: user 70.7 ms, sys: 702 µs, total: 71.4 ms\n",
            "Wall time: 75.9 ms\n"
          ]
        }
      ]
    },
    {
      "cell_type": "markdown",
      "source": [
        "## Loading MATLAB data in JavaScript\n",
        "\n",
        "---\n",
        "\n"
      ],
      "metadata": {
        "id": "X-sn51jhbGpR"
      }
    },
    {
      "cell_type": "markdown",
      "source": [
        "To read/write JSON/NeuroJSON encoded universal data files in Python, one just need to install and import a tiny module called `jda` (https://npmjs.com/package/jda); another lightweight (~34 kB) module `bjd` (https://npmjs.com/package/bjd) allows one to read/write binary JSON files that supports many complex data structures, more compact size and faster file parsing."
      ],
      "metadata": {
        "id": "0cLPMyZSbGpY"
      }
    },
    {
      "cell_type": "code",
      "source": [
        "!npm install jda bjd numjs atob btoa  # jda module is only 20 kB, bjd module is only 34 kB"
      ],
      "metadata": {
        "id": "9-IguRQ5bGpY"
      },
      "execution_count": null,
      "outputs": []
    },
    {
      "cell_type": "markdown",
      "source": [
        "JSON/binary JSON encoded data files can be passed on from MATLAB to JavaScript by"
      ],
      "metadata": {
        "id": "LyWRLc5ybGpY"
      }
    },
    {
      "cell_type": "code",
      "source": [
        "%%javascript\n",
        "// now one can load NeuroJSON/JSON encoded complex data to other programs, such as Python\n",
        "var jdata = require('jda')\n",
        "var nj = require('numjs')\n",
        "var fs = require('fs')\n",
        "\n",
        "// loading a JSON file with JSON.parse and then decode the data/array use jdata\n",
        "var flux = new jdata(JSON.parse(fs.readFileSync('mcx_flux.json').toString().replace(/\\n/g,''))).decode();\n",
        "console.log([flux.data.dtype, flux.data.shape])\n",
        "\n",
        "// loading a binary JSON file with bjd.decode() and then decode the data/array use jdata\n",
        "var bjd = require('bjd')\n",
        "var flux2 = new jdata(bjd.decode(fs.readFileSync('mcx_flux.jdb'))[0]).decode();\n",
        "console.log([flux2.data.dtype, flux2.data.shape])"
      ],
      "metadata": {
        "id": "a2BmV8_dbGpY"
      },
      "execution_count": null,
      "outputs": []
    },
    {
      "cell_type": "markdown",
      "source": [
        "## Download .json file to local disk\n",
        "\n",
        "---"
      ],
      "metadata": {
        "id": "zO4kC-t26OVV"
      }
    },
    {
      "cell_type": "code",
      "source": [
        "from google.colab import files\n",
        "files.download('mcx_flux.json')\n",
        "\n",
        "# once downloaded, you can then load this file to Python using jdata.load, \n",
        "# or loadjson or loadjd in MATLAB/Octave for local processing"
      ],
      "metadata": {
        "id": "CYBL-Hf55Kpy"
      },
      "execution_count": null,
      "outputs": []
    },
    {
      "cell_type": "markdown",
      "source": [
        "# » Use detectors"
      ],
      "metadata": {
        "id": "22pZIXv5dIsi"
      }
    },
    {
      "cell_type": "markdown",
      "source": [
        "## Setup detectors and detection flags"
      ],
      "metadata": {
        "id": "GfYd007cP51D"
      }
    },
    {
      "cell_type": "code",
      "source": [
        "%%octave\n",
        "cfg.detpos=[30,27,0,1; 30,25,0,1];   # to detect photons, one must first define detectors, each row in detpos defines a detector with [x,y,z,radius]\n",
        "cfg.issrcfrom0=1;                    # set this flag to ensure src/det coordinates align with voxel space"
      ],
      "metadata": {
        "id": "NMAqz61S7Nx3"
      },
      "execution_count": null,
      "outputs": []
    },
    {
      "cell_type": "markdown",
      "source": [
        "## Run simulation, detected photons are stored in `res['detp']`"
      ],
      "metadata": {
        "id": "dJ7LO-ixP8l5"
      }
    },
    {
      "cell_type": "code",
      "source": [
        "%%octave\n",
        "[flux, detp]=mcxlab(cfg);"
      ],
      "metadata": {
        "id": "bT-OArmNKBHw"
      },
      "execution_count": null,
      "outputs": []
    },
    {
      "cell_type": "markdown",
      "source": [
        "## Display histogram of partial-paths\n",
        "\n",
        "---\n",
        "\n"
      ],
      "metadata": {
        "id": "ULL6n6huPvMH"
      }
    },
    {
      "cell_type": "code",
      "source": [
        "%%octave\n",
        "hist(detp.ppath(:,1), 0:1:200);"
      ],
      "metadata": {
        "colab": {
          "base_uri": "https://localhost:8080/",
          "height": 437
        },
        "id": "K2w3S9BdKBnS",
        "outputId": "4011a80a-c04e-45e2-fcac-a89b1909966e"
      },
      "execution_count": null,
      "outputs": [
        {
          "output_type": "display_data",
          "data": {
            "image/png": "[encoded data removed]",
            "text/plain": [
              "<IPython.core.display.Image object>"
            ]
          },
          "metadata": {}
        }
      ]
    },
    {
      "cell_type": "markdown",
      "source": [
        "## Use `savedetflag` to save multiple output data types\n",
        "\n",
        "---\n",
        "in the below example, we ask mcx to output detected photon specific data according to the letters presented in the `savedetflag` string:\n",
        "\n",
        "- `d`: detected photon ID (starting from 1), width: 1, output field: `detid`\n",
        "- `p`: partial path for each medium type, width: #media output field: `ppath`\n",
        "- `x`: detected photon existing position, width: 3,  output field: `p`\n",
        "\n",
        "other possible flags include\n",
        "- `s`: partial scattering count per medium, width: #media,  output field: `nscat`\n",
        "- `v`: existing direction vector, width: 3,  output field: `v`\n",
        "- `m`: momentum transfer per medium, width: #media,  output field: `mom`\n",
        "- `w`: photon initial weight, width: 1,  output field: `w0`"
      ],
      "metadata": {
        "id": "6RWYId8WQo14"
      }
    },
    {
      "cell_type": "code",
      "source": [
        "%%octave\n",
        "cfg.savedetflag='dpx';"
      ],
      "metadata": {
        "id": "PClnQkheOZUY"
      },
      "execution_count": null,
      "outputs": []
    },
    {
      "cell_type": "code",
      "source": [
        "%%octave\n",
        "[flux, detp]=mcxlab(cfg);\n",
        "\n",
        "% detected \n",
        "fieldnames(detp)"
      ],
      "metadata": {
        "id": "8j6dvd2LPj0v"
      },
      "execution_count": null,
      "outputs": []
    },
    {
      "cell_type": "markdown",
      "source": [
        "## Plot detected photon existing positions\n",
        "\n",
        "---\n",
        "\n"
      ],
      "metadata": {
        "id": "dUsLGjGGUM1E"
      }
    },
    {
      "cell_type": "code",
      "source": [
        "%%octave\n",
        "% plot photon existing position for Det#1 in red\n",
        "pos1=detp.p(detp.detid==1,:);\n",
        "plot3(pos1(:,1), pos1(:,2), pos1(:,3))\n",
        "\n",
        "% plot photon existing position for Det#2 in blue\n",
        "pos2=detp.p(detp.detid==2,:);\n",
        "hold on;\n",
        "plot3(pos2(:,1), pos2(:,2), pos2(:,3))\n",
        "\n",
        "axis equal"
      ],
      "metadata": {
        "colab": {
          "base_uri": "https://localhost:8080/",
          "height": 437
        },
        "id": "POapUtwoQmWx",
        "outputId": "47e315b0-100f-4588-9f8f-af5fee80e335"
      },
      "execution_count": null,
      "outputs": [
        {
          "output_type": "display_data",
          "data": {
            "image/png": "[encoded data removed]",
            "text/plain": [
              "<IPython.core.display.Image object>"
            ]
          },
          "metadata": {}
        }
      ]
    },
    {
      "cell_type": "markdown",
      "source": [
        "## Save both fluence and detected photon data to disk\n",
        "\n",
        "---\n",
        "\n"
      ],
      "metadata": {
        "id": "T3Ks52zvs70g"
      }
    },
    {
      "cell_type": "code",
      "source": [
        "%%octave\n",
        "mcxoutput=struct('flux', flux, 'detp', detp);\n",
        "tic;savejd('', mcxoutput, 'filename', 'mcx_flux_dept.json', 'compression', 'zlib');toc\n",
        "system('ls -l mcx_flux_dept.json');\n",
        "\n",
        "tic;save('mcx_flux_dept.mat', 'mcxoutput');toc\n",
        "system('ls -l mcx_flux_dept.mat');"
      ],
      "metadata": {
        "id": "UNjjTvk0stWa",
        "outputId": "bbf13def-1f0b-4b64-fc09-c06c2db8d08a",
        "colab": {
          "base_uri": "https://localhost:8080/",
          "height": 90
        }
      },
      "execution_count": null,
      "outputs": [
        {
          "output_type": "display_data",
          "data": {
            "text/plain": [
              "Elapsed time is 1.29467 seconds."
            ]
          },
          "metadata": {}
        },
        {
          "output_type": "display_data",
          "data": {
            "text/plain": [
              "-rw-r--r-- 1 root root 9792181 Apr 28 19:24 mcx_flux_dept.json"
            ]
          },
          "metadata": {}
        },
        {
          "output_type": "display_data",
          "data": {
            "text/plain": [
              "Elapsed time is 3.2799 seconds."
            ]
          },
          "metadata": {}
        },
        {
          "output_type": "display_data",
          "data": {
            "text/plain": [
              "-rw-r--r-- 1 root root 41703987 Apr 28 19:24 mcx_flux_dept.mat"
            ]
          },
          "metadata": {}
        }
      ]
    },
    {
      "cell_type": "code",
      "source": [
        "%%time\n",
        "# now one can load NeuroJSON/JSON encoded complex data to other programs, such as Python\n",
        "flux=jd.load('mcx_flux_dept.json')\n",
        "flux['detp'].keys()"
      ],
      "metadata": {
        "id": "j7rNULUci-Ra"
      },
      "execution_count": null,
      "outputs": []
    },
    {
      "cell_type": "markdown",
      "source": [
        "## Download output file\n",
        "\n",
        "---\n",
        "\n"
      ],
      "metadata": {
        "id": "ZAav2LOPtHge"
      }
    },
    {
      "cell_type": "code",
      "source": [
        "from google.colab import files\n",
        "files.download('mcx_flux_dept.json')"
      ],
      "metadata": {
        "id": "dbKqbo6wtK1U"
      },
      "execution_count": null,
      "outputs": []
    },
    {
      "cell_type": "markdown",
      "source": [
        "# » Save diffuse reflectance"
      ],
      "metadata": {
        "id": "pK8x2Q19YwZT"
      }
    },
    {
      "cell_type": "markdown",
      "source": [
        "## Padding volume by zeros to save diffuse reflectance\n",
        "\n",
        "---\n",
        "\n",
        "mcx can accumulate a photon's remaining weight upon exiting the domain surface. The accumulated distribution can be used to compute \"diffuse reflectance\" (`dref`). However, mcx only accumulates `dref` in 0-valued voxels (i.e. background).\n",
        "\n",
        "That means in order to save `dref` along any medium surface, one must pad a layer of zero voxels outside of this surface.\n",
        "\n",
        "In the below example, we set voxels in z=0 plane to be 0s, so we can capture photons escaping from z=1 plane.\n",
        "\n",
        "The saved \"diffuse reflectance\" are stored under the `dref` key of the output dictonary object."
      ],
      "metadata": {
        "id": "a65jBLS9tdXq"
      }
    },
    {
      "cell_type": "code",
      "source": [
        "%%octave\n",
        "cfg.vol(:,:,1)=0;\n",
        "cfg.issaveref=1;\n",
        "\n",
        "[flux, detp]=mcxlab(cfg);\n",
        "\n",
        "fieldnames(flux)"
      ],
      "metadata": {
        "id": "-BCp-gJMtpyX",
        "colab": {
          "base_uri": "https://localhost:8080/",
          "height": 930
        },
        "outputId": "bf2156a6-36ce-4120-e808-420762368c6e"
      },
      "execution_count": null,
      "outputs": [
        {
          "output_type": "display_data",
          "data": {
            "text/plain": [
              "Launching MCXLAB - Monte Carlo eXtreme for MATLAB & GNU Octave ..."
            ]
          },
          "metadata": {}
        },
        {
          "output_type": "display_data",
          "data": {
            "text/plain": [
              "Running simulations for configuration #1 ..."
            ]
          },
          "metadata": {}
        },
        {
          "output_type": "display_data",
          "data": {
            "text/plain": [
              "mcx.nphoton=1e+07;"
            ]
          },
          "metadata": {}
        },
        {
          "output_type": "display_data",
          "data": {
            "text/plain": [
              "mcx.dim=[60 60 60];"
            ]
          },
          "metadata": {}
        },
        {
          "output_type": "display_data",
          "data": {
            "text/plain": [
              "mcx.mediabyte=1;"
            ]
          },
          "metadata": {}
        },
        {
          "output_type": "display_data",
          "data": {
            "text/plain": [
              "mcx.srcpos=[30 30 1];"
            ]
          },
          "metadata": {}
        },
        {
          "output_type": "display_data",
          "data": {
            "text/plain": [
              "mcx.srcdir=[0 0 1 0];"
            ]
          },
          "metadata": {}
        },
        {
          "output_type": "display_data",
          "data": {
            "text/plain": [
              "mcx.medianum=3;"
            ]
          },
          "metadata": {}
        },
        {
          "output_type": "display_data",
          "data": {
            "text/plain": [
              "mcx.tstart=0;"
            ]
          },
          "metadata": {}
        },
        {
          "output_type": "display_data",
          "data": {
            "text/plain": [
              "mcx.tend=5e-09;"
            ]
          },
          "metadata": {}
        },
        {
          "output_type": "display_data",
          "data": {
            "text/plain": [
              "mcx.tstep=5e-09;"
            ]
          },
          "metadata": {}
        },
        {
          "output_type": "display_data",
          "data": {
            "text/plain": [
              "mcx.gpuid=1;"
            ]
          },
          "metadata": {}
        },
        {
          "output_type": "display_data",
          "data": {
            "text/plain": [
              "mcx.detnum=2;"
            ]
          },
          "metadata": {}
        },
        {
          "output_type": "display_data",
          "data": {
            "text/plain": [
              "mcx.issrcfrom0=1;"
            ]
          },
          "metadata": {}
        },
        {
          "output_type": "display_data",
          "data": {
            "text/plain": [
              "mcx.savedetflag=21;"
            ]
          },
          "metadata": {}
        },
        {
          "output_type": "display_data",
          "data": {
            "text/plain": [
              "mcx.issaveref=1;"
            ]
          },
          "metadata": {}
        },
        {
          "output_type": "display_data",
          "data": {
            "text/plain": [
              "###############################################################################"
            ]
          },
          "metadata": {}
        },
        {
          "output_type": "display_data",
          "data": {
            "text/plain": [
              "#                      Monte Carlo eXtreme (MCX) -- CUDA                      #"
            ]
          },
          "metadata": {}
        },
        {
          "output_type": "display_data",
          "data": {
            "text/plain": [
              "#          Copyright (c) 2009-2022 Qianqian Fang <q.fang at neu.edu>          #"
            ]
          },
          "metadata": {}
        },
        {
          "output_type": "display_data",
          "data": {
            "text/plain": [
              "#                             http://mcx.space/                               #"
            ]
          },
          "metadata": {}
        },
        {
          "output_type": "display_data",
          "data": {
            "text/plain": [
              "#                                                                             #"
            ]
          },
          "metadata": {}
        },
        {
          "output_type": "display_data",
          "data": {
            "text/plain": [
              "# Computational Optics & Translational Imaging (COTI) Lab- http://fanglab.org #"
            ]
          },
          "metadata": {}
        },
        {
          "output_type": "display_data",
          "data": {
            "text/plain": [
              "#   Department of Bioengineering, Northeastern University, Boston, MA, USA    #"
            ]
          },
          "metadata": {}
        },
        {
          "output_type": "display_data",
          "data": {
            "text/plain": [
              "###############################################################################"
            ]
          },
          "metadata": {}
        },
        {
          "output_type": "display_data",
          "data": {
            "text/plain": [
              "#    The MCX Project is funded by the NIH/NIGMS under grant R01-GM114365      #"
            ]
          },
          "metadata": {}
        },
        {
          "output_type": "display_data",
          "data": {
            "text/plain": [
              "###############################################################################"
            ]
          },
          "metadata": {}
        },
        {
          "output_type": "display_data",
          "data": {
            "text/plain": [
              "$Rev::a7a459$v2022.10$Date::2023-04-23 18:09:01 -04$ by $Author::Qianqian Fang$"
            ]
          },
          "metadata": {}
        },
        {
          "output_type": "display_data",
          "data": {
            "text/plain": [
              "###############################################################################"
            ]
          },
          "metadata": {}
        },
        {
          "output_type": "display_data",
          "data": {
            "text/plain": [
              "- variant name: [Fermi] compiled by nvcc [11.3] with CUDA [11030]"
            ]
          },
          "metadata": {}
        },
        {
          "output_type": "display_data",
          "data": {
            "text/plain": [
              "- compiled with: RNG [xorshift128+] with Seed Length [4]"
            ]
          },
          "metadata": {}
        },
        {
          "output_type": "display_data",
          "data": {
            "text/plain": []
          },
          "metadata": {}
        },
        {
          "output_type": "display_data",
          "data": {
            "text/plain": [
              "GPU=1 (Tesla T4) threadph=122 extra=5760 np=10000000 nthread=81920 maxgate=1 repetition=1"
            ]
          },
          "metadata": {}
        },
        {
          "output_type": "display_data",
          "data": {
            "text/plain": [
              "initializing streams ...\tinit complete : 0 ms"
            ]
          },
          "metadata": {}
        },
        {
          "output_type": "display_data",
          "data": {
            "text/plain": [
              "requesting 1536 bytes of shared memory"
            ]
          },
          "metadata": {}
        },
        {
          "output_type": "display_data",
          "data": {
            "text/plain": [
              "launching MCX simulation for time window [0.00e+00ns 5.00e+00ns] ..."
            ]
          },
          "metadata": {}
        },
        {
          "output_type": "display_data",
          "data": {
            "text/plain": [
              "simulation run# 1 ..."
            ]
          },
          "metadata": {}
        },
        {
          "output_type": "display_data",
          "data": {
            "text/plain": [
              "kernel complete:  \t645 ms"
            ]
          },
          "metadata": {}
        },
        {
          "output_type": "display_data",
          "data": {
            "text/plain": [
              "retrieving fields ... \tdetected 0 photons, total: 0\ttransfer complete:\t654 ms"
            ]
          },
          "metadata": {}
        },
        {
          "output_type": "display_data",
          "data": {
            "text/plain": [
              "normalizing raw data ...\tsource 1, normalization factor alpha=20.000000"
            ]
          },
          "metadata": {}
        },
        {
          "output_type": "display_data",
          "data": {
            "text/plain": [
              "data normalization complete : 660 ms"
            ]
          },
          "metadata": {}
        },
        {
          "output_type": "display_data",
          "data": {
            "text/plain": [
              "simulated 10000000 photons (10000000) with 81920 threads (repeat x1)"
            ]
          },
          "metadata": {}
        },
        {
          "output_type": "display_data",
          "data": {
            "text/plain": [
              "MCX simulation speed: 16103.06 photon/ms"
            ]
          },
          "metadata": {}
        },
        {
          "output_type": "display_data",
          "data": {
            "text/plain": [
              "total simulated energy: 10000000.00\tabsorbed: 27.32924%"
            ]
          },
          "metadata": {}
        },
        {
          "output_type": "display_data",
          "data": {
            "text/plain": [
              "(loss due to initial specular reflection is excluded in the total)"
            ]
          },
          "metadata": {}
        },
        {
          "output_type": "display_data",
          "data": {
            "text/plain": [
              "ans ="
            ]
          },
          "metadata": {}
        },
        {
          "output_type": "display_data",
          "data": {
            "text/plain": [
              "{"
            ]
          },
          "metadata": {}
        },
        {
          "output_type": "display_data",
          "data": {
            "text/plain": [
              "  [1,1] = data"
            ]
          },
          "metadata": {}
        },
        {
          "output_type": "display_data",
          "data": {
            "text/plain": [
              "  [2,1] = stat"
            ]
          },
          "metadata": {}
        },
        {
          "output_type": "display_data",
          "data": {
            "text/plain": [
              "  [3,1] = dref"
            ]
          },
          "metadata": {}
        },
        {
          "output_type": "display_data",
          "data": {
            "text/plain": [
              "  [4,1] = prop"
            ]
          },
          "metadata": {}
        },
        {
          "output_type": "display_data",
          "data": {
            "text/plain": [
              "}"
            ]
          },
          "metadata": {}
        },
        {
          "output_type": "display_data",
          "data": {
            "text/plain": []
          },
          "metadata": {}
        }
      ]
    },
    {
      "cell_type": "code",
      "source": [
        "%%octave\n",
        "figure;\n",
        "subplot(221);\n",
        "contourf(log10(flux.dref(:, :, 1)))  % plot diffuse reflectance (outer) at z=1 interface\n",
        "colorbar()\n",
        "colormap('jet')\n",
        "axis equal\n",
        "\n",
        "subplot(222);\n",
        "contourf(log10(flux.data(:, :, 2)))  % plot fluence (inner) at z=1 interface\n",
        "colorbar()\n",
        "colormap('jet')\n",
        "axis equal\n",
        "\n",
        "subplot(223);\n",
        "contourf(log10(flux.data(:, :, 2)) - log10(flux.dref(:, :, 1))) % plot fluence/dref\n",
        "colorbar()\n",
        "colormap('jet')\n",
        "axis equal\n",
        "\n",
        "subplot(224);\n",
        "plot(squeeze(log10(flux.data(30, :, 2)) - log10(flux.dref(30, :, 1))))\n",
        "mean(squeeze(log10(flux.data(30, :, 2)) - log10(flux.dref(30, :, 1))))\n",
        "axis equal"
      ],
      "metadata": {
        "id": "rnxygE64umkR",
        "colab": {
          "base_uri": "https://localhost:8080/",
          "height": 455
        },
        "outputId": "9e658f99-4773-4f9d-f2f7-5fbd5fd44386"
      },
      "execution_count": null,
      "outputs": [
        {
          "output_type": "display_data",
          "data": {
            "text/plain": [
              "ans =  0.86947"
            ]
          },
          "metadata": {}
        },
        {
          "output_type": "display_data",
          "data": {
            "image/png": "[encoded data removed]",
            "text/plain": [
              "<IPython.core.display.Image object>"
            ]
          },
          "metadata": {}
        }
      ]
    },
    {
      "cell_type": "markdown",
      "source": [
        "# » Photon replay"
      ],
      "metadata": {
        "id": "Vu13dAO4wUK1"
      }
    },
    {
      "cell_type": "markdown",
      "source": [
        "For details related to the \"photon replay\" algorithm, please check out our below paper:\n",
        "\n",
        "* Ruoyang Yao, Xavier Intes, Qianqian Fang*, [\"A direct approach to compute Jacobians for diffuse optical tomography using perturbation Monte Carlo-based photon 'replay',\"](https://www.osapublishing.org/boe/abstract.cfm?uri=boe-9-10-4588) Biomed. Optics Express 9(10), 4588-4603, (2018)\n"
      ],
      "metadata": {
        "id": "kO1ths515bm7"
      }
    },
    {
      "cell_type": "markdown",
      "source": [
        "## Using *photon replay* to build Jacobians"
      ],
      "metadata": {
        "id": "rMYcvp2zwbnv"
      }
    },
    {
      "cell_type": "code",
      "source": [
        "%%octave\n",
        "\n",
        "%% Step 1 - run baseline simulation to get detected photons (and their seeds) at detectors\n",
        "clear cfg\n",
        "cfg.nphoton=1e7;\n",
        "cfg.vol=uint8(ones(60,60,60));\n",
        "cfg.vol(20:40, 30:40, 20:30)=2;\n",
        "cfg.srcpos=[30 30 1];\n",
        "cfg.srcdir=[0 0 1];\n",
        "cfg.prop=[0 0 1 1; 0.005 1 0 1.37; 0.1, 10, 0.9, 1];\n",
        "cfg.tstart=0;\n",
        "cfg.tend=5e-9;\n",
        "cfg.tstep=5e-9;\n",
        "cfg.gpuid=1;\n",
        "cfg.detpos=[30,20,0,1];        % to detect photons, one must first define detectors\n",
        "cfg.issrcfrom0=1;              % set this flag to ensure src/det coordinates align with voxel space\n",
        "\n",
        "if(exist('USE_MCXCL', 'var') && USE_MCXCL)\n",
        "    cfg.nphoton=1e5;\n",
        "end\n",
        "\n",
        "% run baseline simulation, now seed data are stored in output seeds.data\n",
        "[flux, detp, vol, seeds]=mcxlab(cfg);\n",
        "size(seeds.data)"
      ],
      "metadata": {
        "id": "YKkvJA6dw25S"
      },
      "execution_count": null,
      "outputs": []
    },
    {
      "cell_type": "code",
      "source": [
        "%%octave\n",
        "\n",
        "% Step 2 - replay detected photon and output Jacobian\n",
        "cfg_replay=cfg;\n",
        "cfg_replay.seed=seeds.data;              % one must define cfg.seed using the returned seeds\n",
        "cfg_replay.detphotons=detp.data;    % one must define cfg.detphotons. using the returned detp data\n",
        "cfg_replay.outputtype='jacobian';   % tell mcx to output absorption (mu_a) Jacobian\n",
        "\n",
        "# run replay, if done properly, the exact the same set of photons will be \"redetected\"\n",
        "[flux2, detp2, vol2, seeds2]=mcxlab(cfg_replay);\n",
        "disp(struct('redetection', size(seeds2.data), 'initial_detection', size(seeds.data)))"
      ],
      "metadata": {
        "id": "RL30AahxxlnP"
      },
      "execution_count": null,
      "outputs": []
    },
    {
      "cell_type": "code",
      "source": [
        "%%octave\n",
        "\n",
        "% plot mu_a Jacobian (sensitivity profile, or photon banana)\n",
        "contourf(log10(squeeze(flux2.data(30,:, :))), 40)\n",
        "colorbar();\n",
        "colormap('jet');\n",
        "axis equal"
      ],
      "metadata": {
        "id": "hNDTPCDIydZC",
        "outputId": "0de114bf-17b6-4a18-8d91-81cada18f51a",
        "colab": {
          "base_uri": "https://localhost:8080/",
          "height": 437
        }
      },
      "execution_count": null,
      "outputs": [
        {
          "output_type": "display_data",
          "data": {
            "image/png": "[encoded data removed]",
            "text/plain": [
              "<IPython.core.display.Image object>"
            ]
          },
          "metadata": {}
        }
      ]
    },
    {
      "cell_type": "markdown",
      "source": [
        "# » Define domain by JSON based shape descriptors"
      ],
      "metadata": {
        "id": "1zgZKJ1N1Fa3"
      }
    },
    {
      "cell_type": "markdown",
      "source": [
        "## Define domain by a series of shape constructs\n",
        "\n",
        "---\n"
      ],
      "metadata": {
        "id": "t470_SAB4Nyq"
      }
    },
    {
      "cell_type": "code",
      "source": [
        "%%octave\n",
        "\n",
        "Shapes={};\n",
        "Shapes{end+1}=struct('Grid', struct('Tag', 1, 'Size', [40,60,30]));\n",
        "Shapes{end+1}=struct('Sphere', struct('Tag', 2, 'O', [20,30,10], 'R', 10));\n",
        "\n",
        "cfg.shapes=savejson('Shapes', Shapes, 'compact', 1);\n",
        "\n",
        "cfg.shapes\n",
        "\n",
        "% alternatively, one can also directly define cfg.shapes as a JSON string such as\n",
        "% cfg.shapes= '{\"Shapes\":[{\"Grid\":{\"Tag\":1,\"Size\":[40,60,30]}},{\"Sphere\":{\"Tag\":2,\"O\":[20,30,10],\"R\":10}}]}';\n",
        "\n",
        "cfg.srcpos=[20,30,0];\n",
        "cfg.prop=[0, 0, 1, 1; 0.005, 1, 0.01, 1.37; 0.1, 10, 0.9, 1];"
      ],
      "metadata": {
        "id": "F8Idr-uA1J5L"
      },
      "execution_count": null,
      "outputs": []
    },
    {
      "cell_type": "code",
      "source": [
        "%%octave\n",
        "flux=mcxlab(cfg);"
      ],
      "metadata": {
        "id": "kWTkg2xd2CEI"
      },
      "execution_count": null,
      "outputs": []
    },
    {
      "cell_type": "code",
      "source": [
        "%%octave\n",
        "\n",
        "contourf(log10(abs(squeeze(flux.data(20,:,:))')))\n",
        "colorbar;\n",
        "colormap('jet')\n",
        "axis equal"
      ],
      "metadata": {
        "id": "1vR1ST6W2or4",
        "colab": {
          "base_uri": "https://localhost:8080/",
          "height": 437
        },
        "outputId": "2e011c75-36fb-4faf-aff9-194d34eaa27a"
      },
      "execution_count": null,
      "outputs": [
        {
          "output_type": "display_data",
          "data": {
            "image/png": "[encoded data removed]",
            "text/plain": [
              "<IPython.core.display.Image object>"
            ]
          },
          "metadata": {}
        }
      ]
    },
    {
      "cell_type": "markdown",
      "source": [
        "# » Track photon trajectories\n",
        "\n",
        "**WARNING! Returning photon trajectories is a feature largely used for debugging and visualization purposes. Because it is such an intuitive output, it has been mis-used numerously by new users for deriving quantiative metrics.**\n",
        "\n",
        "We strongly do not recommend the use of this output for deriving other quantities unless you know exactly what you are looking for. The reasons for this recommendation are\n",
        "\n",
        "- trajectory data require a very large memory footprint to store and process, thus is very inefficient; they may not even fit in the GPU memory\n",
        "- each segment in the trajectories is not the same - they are associated with spatially varying packet weight; to rigirously consider such weight changes along the path requires complex math\n",
        "- the fluence and detected photon data mcxlab returns are essentially derived from tracking photons entire paths in the GPU; what you are looking for may already been returned as part of combinations of these outputs; there is no need to recompute these quantities on the CPU by repeating the same process (which is much more efficient on the GPU)."
      ],
      "metadata": {
        "id": "UWPgIGhcXtkS"
      }
    },
    {
      "cell_type": "markdown",
      "source": [
        "## Obtain photon trajectories\n",
        "\n",
        "---\n",
        "\n",
        "If one asks mcxlab to return a 5th output, an 6xN matrix will be returned; each colume represents the state of a photon when a scattering happens. The total number of scattering event summing across all simulated photons can not exceed a limit set by `cfg.maxjumpdebug`, which as a default value of 1e7 if not set. Given that photons typically scatter hundred times before existing a diffusive medium, the total photon that can be stored within the memory a typical GPU can provide is often a small subset of a typical simulation."
      ],
      "metadata": {
        "id": "-BlaMJkQXtkS"
      }
    },
    {
      "cell_type": "code",
      "source": [
        "%%octave\n",
        "\n",
        "clear cfg\n",
        "cfg.nphoton=400;\n",
        "cfg.vol=uint8(ones(60,60,60));\n",
        "cfg.srctype='disk';\n",
        "cfg.srcpos=[30 30 1];\n",
        "cfg.srcdir=[0 0 1, -30];\n",
        "cfg.srcparam1=[10,0,0,0];\n",
        "cfg.prop=[0 0 1 1; 0.005 0 0 1.37; 0.1, 10, 0.9, 1];\n",
        "cfg.tstart=0;\n",
        "cfg.tend=5e-9;\n",
        "cfg.tstep=5e-9;\n",
        "cfg.isreflect=0;\n",
        "\n",
        "cfg.maxjumpdebug=1e7;   % this flag sets the maximum scattering-site count for all simulated photons; mcx will stop recording when all total scattering events exceeds this number\n",
        "\n",
        "[flux, detp, vol, seeds, traj]=mcxlab(cfg);\n",
        "size(traj.data)"
      ],
      "metadata": {
        "id": "0MycvQUqb2YC"
      },
      "execution_count": null,
      "outputs": []
    },
    {
      "cell_type": "code",
      "source": [
        "%%octave\n",
        "sortedlines=mcxplotphotons(traj, 'color','b', 'linestyle', ':', 'markersize', 10, 'markeredgecolor', 'r');\n",
        "axis equal\n",
        "[sortedlines.id(1:10) sortedlines.pos(1:10,:)]"
      ],
      "metadata": {
        "id": "FNgD3dZPb_wt",
        "outputId": "fc785051-b0bd-457e-b180-b739b21da008",
        "colab": {
          "base_uri": "https://localhost:8080/",
          "height": 638
        }
      },
      "execution_count": 53,
      "outputs": [
        {
          "output_type": "display_data",
          "data": {
            "text/plain": [
              "ans ="
            ]
          },
          "metadata": {}
        },
        {
          "output_type": "display_data",
          "data": {
            "text/plain": []
          },
          "metadata": {}
        },
        {
          "output_type": "display_data",
          "data": {
            "text/plain": [
              "   1  27  29   0"
            ]
          },
          "metadata": {}
        },
        {
          "output_type": "display_data",
          "data": {
            "text/plain": [
              "   1  24  29  60"
            ]
          },
          "metadata": {}
        },
        {
          "output_type": "display_data",
          "data": {
            "text/plain": [
              "   2  34  36   0"
            ]
          },
          "metadata": {}
        },
        {
          "output_type": "display_data",
          "data": {
            "text/plain": [
              "   2  43  49  60"
            ]
          },
          "metadata": {}
        },
        {
          "output_type": "display_data",
          "data": {
            "text/plain": [
              "   3  21  29   0"
            ]
          },
          "metadata": {}
        },
        {
          "output_type": "display_data",
          "data": {
            "text/plain": [
              "   3   4  29  60"
            ]
          },
          "metadata": {}
        },
        {
          "output_type": "display_data",
          "data": {
            "text/plain": [
              "   4  31  37   0"
            ]
          },
          "metadata": {}
        },
        {
          "output_type": "display_data",
          "data": {
            "text/plain": [
              "   4  35  54  60"
            ]
          },
          "metadata": {}
        },
        {
          "output_type": "display_data",
          "data": {
            "text/plain": [
              "   5  24  36   0"
            ]
          },
          "metadata": {}
        },
        {
          "output_type": "display_data",
          "data": {
            "text/plain": [
              "   5  15  49  60"
            ]
          },
          "metadata": {}
        },
        {
          "output_type": "display_data",
          "data": {
            "text/plain": []
          },
          "metadata": {}
        },
        {
          "output_type": "display_data",
          "data": {
            "image/png": "[encoded data removed]",
            "text/plain": [
              "<IPython.core.display.Image object>"
            ]
          },
          "metadata": {}
        }
      ]
    },
    {
      "cell_type": "markdown",
      "source": [
        "# » Choosing different source type\n"
      ],
      "metadata": {
        "id": "UMx7XO4d1Ljb"
      }
    },
    {
      "cell_type": "markdown",
      "source": [
        "## Supported source types\n",
        "\n",
        "\n",
        "---\n",
        "\n",
        "\n",
        "MCX supports over a dozen source types. The source type can be set by the `cfg.srctype` field (a string), and the parameters for the source by `cfg.srcparam1` and `cfg.srcparam2` - each being a row-vector of 4 numbers. The supported source types are listed below\n",
        "\n",
        "- `'pencil'` - default, pencil beam, no param needed\n",
        "- `'isotropic'` - isotropic source, no param needed\n",
        "- `'cone'` - uniform cone beam, `srcparam1(1)` is the half-angle in radian\n",
        "- `'gaussian'` [*] - a collimated gaussian beam, `srcparam1(1)` specifies the waist radius (in voxels)\n",
        "- `'hyperboloid'` - a one-sheeted hyperboloid gaussian beam, `srcparam1(1)` specifies the waist\n",
        "  radius (in voxels), `srcparam1(2)` specifies distance between launch plane and focus,\n",
        "  `srcparam1(3)` specifies rayleigh range\n",
        "- `'planar'` [\\*] - a 3D quadrilateral uniform planar source, with three corners specified \n",
        "   by srcpos, `srcpos+srcparam1(1:3)` and `srcpos+srcparam2(1:3)`\n",
        "- `'pattern'` [\\*] - a 3D quadrilateral pattern illumination, same as above, except\n",
        "   `srcparam1(4)` and `srcparam2(4)` specify the pattern array x/y dimensions,\n",
        "   and srcpattern is a floating-point pattern array, with values between [0-1]. \n",
        "   if cfg.srcnum>1, srcpattern must be a floating-point array with \n",
        "   a dimension of `[srcnum srcparam1(4) srcparam2(4)]`\n",
        "- `'pattern3d'` [\\*] - a 3D illumination pattern. srcparam1{x,y,z} defines the dimensions,\n",
        "   and srcpattern is a floating-point pattern array, with values between [0-1]. \n",
        "- `'fourier'` [\\*] - spatial frequency domain source, similar to 'planar', except\n",
        "   the integer parts of `srcparam1(4)` and `srcparam2(4)` represent\n",
        "   the x/y frequencies; the fraction part of srcparam1(4) multiplies\n",
        "   2*pi represents the phase shift (phi0); 1.0 minus the fraction part of\n",
        "   `srcparam2(4)` is the modulation depth (M). Put in equations:\n",
        "   `S=0.5*[1+M*cos(2*pi*(fx*x+fy*y)+phi0)]`, (`0<=x,y,M<=1`)\n",
        "- `'arcsine'` - similar to isotropic, except the zenith angle is uniform\n",
        "   distribution, rather than a sine distribution.\n",
        "- `'disk'` [\\*] - a uniform disk source pointing along srcdir; the radius is \n",
        "  set by srcparam1(1) (in grid unit); if srcparam1(2) is set to a non-zero\n",
        "  value, this source defines a ring (annulus) shaped source, with\n",
        "  srcparam1(2) denoting the inner circle's radius, here `srcparam1(1)>=srcparam1(2)`\n",
        "- `'fourierx'` [\\*] - a general Fourier source, the parameters are \n",
        "  `srcparam1`: `[v1x,v1y,v1z,|v2|]`, `srcparam2`: `[kx,ky,phi0,M]`\n",
        "  normalized vectors satisfy: `srcdir cross v1=v2`\n",
        "  the phase shift is phi0*2*pi\n",
        "- `'fourierx2d'` [\\*] - a general 2D Fourier basis, parameters\n",
        "  srcparam1: `[v1x,v1y,v1z,|v2|]`, srcparam2: `[kx,ky,phix,phiy]`\n",
        "  the phase shift is phi{x,y}*2*pi\n",
        "- `'zgaussian'` - an angular gaussian beam, srcparam1(1) specifies the variance in the zenith angle\n",
        "- `'line'` - a line source, emitting from the line segment between \n",
        "  `cfg.srcpos` and `cfg.srcpos+cfg.srcparam(1:3)`, radiating \n",
        "  uniformly in the perpendicular direction\n",
        "- `'slit'` [\\*] - a colimated slit beam emitting from the line segment between \n",
        "  cfg.srcpos and `cfg.srcpos+cfg.srcparam(1:3)`, with the initial  \n",
        "  dir specified by cfg.srcdir\n",
        "- `'pencilarray'` - a rectangular array of pencil beams. The srcparam1 and srcparam2\n",
        "  are defined similarly to 'fourier', except that `srcparam1(4)` and `srcparam2(4)`\n",
        "  are both integers, denoting the element counts in the x/y dimensions, respectively. \n",
        "  For exp., `srcparam1=[10 0 0 4]` and `srcparam2[0 20 0 5]` represent a 4x5 pencil beam array\n",
        "  spanning 10 grids in the x-axis and 20 grids in the y-axis (5-voxel spacing)\n",
        "\n",
        "source types marked with [\\*] can be focused using the\n",
        "focal length parameter (4th element of `cfg.srcdir`)"
      ],
      "metadata": {
        "id": "lW4BzHTCaqgp"
      }
    },
    {
      "cell_type": "markdown",
      "source": [
        "## `isotropic` source\n",
        "\n",
        "---\n"
      ],
      "metadata": {
        "id": "eSVbGBBIghyt"
      }
    },
    {
      "cell_type": "code",
      "source": [
        "%%octave\n",
        "\n",
        "clear cfg\n",
        "cfg.nphoton=800;\n",
        "cfg.vol=uint8(ones(60,60,60));\n",
        "cfg.srcpos=[30 30 30];\n",
        "cfg.srcdir=[0 0 1];\n",
        "cfg.prop=[0 0 1 1; 0.005 0 0 1];\n",
        "cfg.tstart=0;\n",
        "cfg.tend=1e-10;\n",
        "cfg.tstep=1e-10;\n",
        "cfg.isreflect=0;\n",
        "\n",
        "cfg.maxjumpdebug=1e7;   % this flag sets the maximum scattering-site count for all simulated photons; mcx will stop recording when all total scattering events exceeds this number\n",
        "\n",
        "cfg.srctype='isotropic';\n",
        "[flux, detp, vol, seeds, traj]=mcxlab(cfg);"
      ],
      "metadata": {
        "id": "cQCFPlpH4Qv-"
      },
      "execution_count": null,
      "outputs": []
    },
    {
      "cell_type": "code",
      "source": [
        "%%octave\n",
        "title('isotropic source')\n",
        "sortedlines=mcxplotphotons(traj, 'color','b', 'linestyle', ':', 'markersize', 10, 'markeredgecolor', 'r');\n",
        "axis equal"
      ],
      "metadata": {
        "id": "d8klGHqr7CL9",
        "outputId": "af5a0921-4eb0-45ed-ceed-79584f585ecd",
        "colab": {
          "base_uri": "https://localhost:8080/",
          "height": 437
        }
      },
      "execution_count": 50,
      "outputs": [
        {
          "output_type": "display_data",
          "data": {
            "image/png": "[encoded data removed]",
            "text/plain": [
              "<IPython.core.display.Image object>"
            ]
          },
          "metadata": {}
        }
      ]
    },
    {
      "cell_type": "markdown",
      "source": [
        "## `cone` beam\n",
        "\n",
        "---"
      ],
      "metadata": {
        "id": "_SWM_ZGXgm6q"
      }
    },
    {
      "cell_type": "code",
      "source": [
        "%%octave\n",
        "cfg.srctype='cone';\n",
        "cfg.srcpos=[30,30,0];\n",
        "cfg.srcparam1=[pi/6, 0, 0, 0];\n",
        "\n",
        "[flux, detp, vol, seeds, traj]=mcxlab(cfg);"
      ],
      "metadata": {
        "id": "r8gn7aSDcPjH"
      },
      "execution_count": null,
      "outputs": []
    },
    {
      "cell_type": "code",
      "source": [
        "%%octave\n",
        "title('cone source')\n",
        "sortedlines=mcxplotphotons(traj, 'color','b', 'linestyle', ':', 'markersize', 10, 'markeredgecolor', 'r');\n",
        "axis equal"
      ],
      "metadata": {
        "id": "Danfv8iRca16",
        "outputId": "b1a14418-9f9a-4030-c41e-7d8f7507171a",
        "colab": {
          "base_uri": "https://localhost:8080/",
          "height": 437
        }
      },
      "execution_count": 55,
      "outputs": [
        {
          "output_type": "display_data",
          "data": {
            "image/png": "[encoded data removed]",
            "text/plain": [
              "<IPython.core.display.Image object>"
            ]
          },
          "metadata": {}
        }
      ]
    },
    {
      "cell_type": "markdown",
      "source": [
        "## `disk` source - uniform disk beam\n",
        "\n",
        "---\n"
      ],
      "metadata": {
        "id": "66tVesLPxVv6"
      }
    },
    {
      "cell_type": "code",
      "source": [
        "%%octave\n",
        "cfg.srctype='disk';\n",
        "cfg.srcpos=[30,30,0];\n",
        "cfg.srcparam1=[10, 0, 0, 0];\n",
        "\n",
        "[flux, detp, vol, seeds, traj]=mcxlab(cfg);"
      ],
      "metadata": {
        "id": "Hn0ExagMxVv6"
      },
      "execution_count": null,
      "outputs": []
    },
    {
      "cell_type": "code",
      "source": [
        "%%octave\n",
        "title('disk source')\n",
        "sortedlines=mcxplotphotons(traj, 'color','b', 'linestyle', ':', 'markeredgecolor', 'r');\n",
        "axis equal"
      ],
      "metadata": {
        "outputId": "8da9fbcb-6640-4193-a4fd-da166b6c3dd2",
        "colab": {
          "base_uri": "https://localhost:8080/",
          "height": 437
        },
        "id": "ILhzgnoQxVv7"
      },
      "execution_count": 14,
      "outputs": [
        {
          "output_type": "display_data",
          "data": {
            "image/png": "[encoded data removed]",
            "text/plain": [
              "<IPython.core.display.Image object>"
            ]
          },
          "metadata": {}
        }
      ]
    },
    {
      "cell_type": "markdown",
      "source": [
        "## `gaussian` source - colimated Gaussian beam\n",
        "\n",
        "---\n"
      ],
      "metadata": {
        "id": "dJx4h63zgqfc"
      }
    },
    {
      "cell_type": "code",
      "source": [
        "%%octave\n",
        "cfg.srctype='gaussian';\n",
        "waist=10;    % Gaussian beam waist W0=2*sigma where sigma is the standard-deviation of the Gaussian profile\n",
        "cfg.srcparam1=[waist, 0, 0, 0];\n",
        "cfg.srcdir=[0,0,1];\n",
        "\n",
        "[flux, detp, vol, seeds, traj]=mcxlab(cfg);"
      ],
      "metadata": {
        "id": "IHlbk1wzcnhT"
      },
      "execution_count": null,
      "outputs": []
    },
    {
      "cell_type": "code",
      "source": [
        "%%octave\n",
        "title('colimated Gaussan beam source')\n",
        "sortedlines=mcxplotphotons(traj, 'color','b', 'linestyle', 'none', 'markeredgecolor', 'r');\n",
        "axis equal"
      ],
      "metadata": {
        "colab": {
          "base_uri": "https://localhost:8080/",
          "height": 437
        },
        "id": "0YTlk_USdG0C",
        "outputId": "6f7abaf9-4fbe-4072-ed62-83f093bddde8"
      },
      "execution_count": 60,
      "outputs": [
        {
          "output_type": "display_data",
          "data": {
            "image/png": "[encoded data removed]",
            "text/plain": [
              "<IPython.core.display.Image object>"
            ]
          },
          "metadata": {}
        }
      ]
    },
    {
      "cell_type": "markdown",
      "source": [
        "## `zgaussian` source (angular Gaussian)\n",
        "\n",
        "---\n"
      ],
      "metadata": {
        "id": "icAZmPkJgwEk"
      }
    },
    {
      "cell_type": "code",
      "source": [
        "%%octave\n",
        "cfg.srctype='zgaussian';\n",
        "sigma=pi/6;    % the first element of srcparam1 sets the standard deviation of the zenith angle\n",
        "cfg.srcparam1=[sigma, 0, 0, 0];\n",
        "\n",
        "[flux, detp, vol, seeds, traj]=mcxlab(cfg);"
      ],
      "metadata": {
        "id": "aoIPTHdKdnhS"
      },
      "execution_count": null,
      "outputs": []
    },
    {
      "cell_type": "code",
      "source": [
        "%%octave\n",
        "title('angular Gaussan beam source')\n",
        "sortedlines=mcxplotphotons(traj, 'color','b', 'linestyle', ':', 'markeredgecolor', 'r');\n",
        "axis equal"
      ],
      "metadata": {
        "id": "eahQkD75gGix",
        "outputId": "7912d70d-627c-483f-fc4a-7e07afc478aa",
        "colab": {
          "base_uri": "https://localhost:8080/",
          "height": 437
        }
      },
      "execution_count": 51,
      "outputs": [
        {
          "output_type": "display_data",
          "data": {
            "image/png": "[encoded data removed]",
            "text/plain": [
              "<IPython.core.display.Image object>"
            ]
          },
          "metadata": {}
        }
      ]
    },
    {
      "cell_type": "markdown",
      "source": [
        "## `line` source - uniform line source\n",
        "\n",
        "---\n"
      ],
      "metadata": {
        "id": "TJSvWsN-x3Q8"
      }
    },
    {
      "cell_type": "code",
      "source": [
        "%%octave\n",
        "cfg.srctype='line';\n",
        "cfg.srcpos=[10,10,30];\n",
        "cfg.srcparam1=[40, 30, 0, 0];\n",
        "cfg.nphoton=1e3;\n",
        "\n",
        "[flux, detp, vol, seeds, traj]=mcxlab(cfg);"
      ],
      "metadata": {
        "id": "sZdBdrzKx3Q8"
      },
      "execution_count": null,
      "outputs": []
    },
    {
      "cell_type": "code",
      "source": [
        "%%octave\n",
        "title('line source')\n",
        "sortedlines=mcxplotphotons(traj, 'color','b', 'linestyle', ':', 'markeredgecolor', 'r');\n",
        "axis equal"
      ],
      "metadata": {
        "outputId": "a9d01196-c747-40ab-814d-d83fa58e8804",
        "colab": {
          "base_uri": "https://localhost:8080/",
          "height": 437
        },
        "id": "vHkySw9Jx3Q9"
      },
      "execution_count": 41,
      "outputs": [
        {
          "output_type": "display_data",
          "data": {
            "image/png": "[encoded data removed]",
            "text/plain": [
              "<IPython.core.display.Image object>"
            ]
          },
          "metadata": {}
        }
      ]
    },
    {
      "cell_type": "markdown",
      "source": [],
      "metadata": {
        "id": "pC7HmuoezVS2"
      }
    },
    {
      "cell_type": "markdown",
      "source": [
        "## `slit` source - directed line source\n",
        "\n",
        "---\n"
      ],
      "metadata": {
        "id": "8xHlu1q-zWZu"
      }
    },
    {
      "cell_type": "code",
      "source": [
        "%%octave\n",
        "cfg.srctype='slit';\n",
        "cfg.srcpos=[20,10,0];\n",
        "cfg.srcdir=[0,0,1];\n",
        "cfg.srcparam1=[40, 30, 0, 0];\n",
        "\n",
        "[flux, detp, vol, seeds, traj]=mcxlab(cfg);"
      ],
      "metadata": {
        "id": "XcHf77S0zWZu"
      },
      "execution_count": null,
      "outputs": []
    },
    {
      "cell_type": "code",
      "source": [
        "%%octave\n",
        "title('slit source')\n",
        "sortedlines=mcxplotphotons(traj, 'color','b', 'linestyle', ':', 'markeredgecolor', 'r');\n",
        "axis equal"
      ],
      "metadata": {
        "outputId": "aba47002-d94b-4b4a-9240-17acea8d59ad",
        "colab": {
          "base_uri": "https://localhost:8080/",
          "height": 437
        },
        "id": "crNJHrKezWZv"
      },
      "execution_count": 9,
      "outputs": [
        {
          "output_type": "display_data",
          "data": {
            "image/png": "[encoded data removed]",
            "text/plain": [
              "<IPython.core.display.Image object>"
            ]
          },
          "metadata": {}
        }
      ]
    },
    {
      "cell_type": "markdown",
      "source": [],
      "metadata": {
        "id": "v0zXn5ag0BDH"
      }
    },
    {
      "cell_type": "markdown",
      "source": [
        "## `planar` source - uniform rectangular/quadrilateral area source\n",
        "\n",
        "---\n"
      ],
      "metadata": {
        "id": "Q7Vl2Jm30BUr"
      }
    },
    {
      "cell_type": "code",
      "source": [
        "%%octave\n",
        "cfg.srctype='planar';\n",
        "cfg.srcpos=[10,10,0];\n",
        "cfg.srcdir=[0,0,1];\n",
        "cfg.srcparam1=[20, 10, 0, 0];   % cfg.srcpos+cfg.srcparam1(1:3) determines \n",
        "cfg.srcparam2=[15, 30, 0, 0];\n",
        "\n",
        "[flux, detp, vol, seeds, traj]=mcxlab(cfg);"
      ],
      "metadata": {
        "id": "WnkHZFJzhvO0"
      },
      "execution_count": null,
      "outputs": []
    },
    {
      "cell_type": "code",
      "source": [
        "%%octave\n",
        "title('planar source')\n",
        "sortedlines=mcxplotphotons(traj, 'color','b', 'linestyle', ':', 'markeredgecolor', 'r');\n",
        "box on; grid on;\n",
        "axis equal"
      ],
      "metadata": {
        "id": "vZrdkTNbvP_J",
        "outputId": "0307191b-1b84-49ed-9fbd-0d6ceeba368d",
        "colab": {
          "base_uri": "https://localhost:8080/",
          "height": 437
        }
      },
      "execution_count": 27,
      "outputs": [
        {
          "output_type": "display_data",
          "data": {
            "image/png": "[encoded data removed]",
            "text/plain": [
              "<IPython.core.display.Image object>"
            ]
          },
          "metadata": {}
        }
      ]
    }
  ]
}